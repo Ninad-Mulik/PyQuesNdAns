{
 "cells": [
  {
   "cell_type": "code",
   "execution_count": 1,
   "id": "61ec1de6",
   "metadata": {},
   "outputs": [],
   "source": [
    "from flask import Flask, request"
   ]
  },
  {
   "cell_type": "code",
   "execution_count": 2,
   "id": "0596d07b",
   "metadata": {},
   "outputs": [],
   "source": [
    "post_sum = Flask(__name__)"
   ]
  },
  {
   "cell_type": "code",
   "execution_count": 1,
   "id": "bb090fed",
   "metadata": {},
   "outputs": [
    {
     "ename": "NameError",
     "evalue": "name 'post_sum' is not defined",
     "output_type": "error",
     "traceback": [
      "\u001b[1;31m---------------------------------------------------------------------------\u001b[0m",
      "\u001b[1;31mNameError\u001b[0m                                 Traceback (most recent call last)",
      "Cell \u001b[1;32mIn[1], line 1\u001b[0m\n\u001b[1;32m----> 1\u001b[0m \u001b[38;5;129m@post_sum\u001b[39m\u001b[38;5;241m.\u001b[39mroute(\u001b[38;5;124m'\u001b[39m\u001b[38;5;124m/\u001b[39m\u001b[38;5;124m'\u001b[39m, methods\u001b[38;5;241m=\u001b[39m[\u001b[38;5;124m'\u001b[39m\u001b[38;5;124mGET\u001b[39m\u001b[38;5;124m'\u001b[39m,\u001b[38;5;124m'\u001b[39m\u001b[38;5;124mPOST\u001b[39m\u001b[38;5;124m'\u001b[39m])\n\u001b[0;32m      2\u001b[0m \u001b[38;5;28;01mdef\u001b[39;00m \u001b[38;5;21madd\u001b[39m():\n\u001b[0;32m      3\u001b[0m     data \u001b[38;5;241m=\u001b[39m request\u001b[38;5;241m.\u001b[39mget_json()\n\u001b[0;32m      4\u001b[0m     \u001b[38;5;28mprint\u001b[39m(data)\n",
      "\u001b[1;31mNameError\u001b[0m: name 'post_sum' is not defined"
     ]
    }
   ],
   "source": [
    "@post_sum.route('/', methods=['GET','POST'])\n",
    "def add():\n",
    "    data = request.get_json()\n",
    "    print(data)\n",
    "    return (\"Roll it up \") "
   ]
  },
  {
   "cell_type": "code",
   "execution_count": null,
   "id": "5a492c90",
   "metadata": {},
   "outputs": [
    {
     "name": "stdout",
     "output_type": "stream",
     "text": [
      " * Serving Flask app '__main__'\n",
      " * Debug mode: off\n"
     ]
    },
    {
     "name": "stderr",
     "output_type": "stream",
     "text": [
      "WARNING: This is a development server. Do not use it in a production deployment. Use a production WSGI server instead.\n",
      " * Running on http://127.0.0.1:5555\n",
      "Press CTRL+C to quit\n",
      "127.0.0.1 - - [10/Apr/2024 18:18:21] \"POST / HTTP/1.1\" 400 -\n",
      "127.0.0.1 - - [10/Apr/2024 18:18:57] \"POST / HTTP/1.1\" 200 -\n"
     ]
    },
    {
     "name": "stdout",
     "output_type": "stream",
     "text": [
      "{'name': 'kai_sama'}\n"
     ]
    },
    {
     "name": "stderr",
     "output_type": "stream",
     "text": [
      "127.0.0.1 - - [10/Apr/2024 18:19:16] \"GET / HTTP/1.1\" 400 -\n",
      "127.0.0.1 - - [10/Apr/2024 18:19:16] \"GET /favicon.ico HTTP/1.1\" 404 -\n"
     ]
    }
   ],
   "source": [
    "if __name__ == '__main__':\n",
    "    post_sum.run(port=5555)"
   ]
  },
  {
   "cell_type": "code",
   "execution_count": null,
   "id": "6248f8ad",
   "metadata": {},
   "outputs": [],
   "source": []
  }
 ],
 "metadata": {
  "kernelspec": {
   "display_name": "Python 3 (ipykernel)",
   "language": "python",
   "name": "python3"
  },
  "language_info": {
   "codemirror_mode": {
    "name": "ipython",
    "version": 3
   },
   "file_extension": ".py",
   "mimetype": "text/x-python",
   "name": "python",
   "nbconvert_exporter": "python",
   "pygments_lexer": "ipython3",
   "version": "3.11.5"
  }
 },
 "nbformat": 4,
 "nbformat_minor": 5
}
