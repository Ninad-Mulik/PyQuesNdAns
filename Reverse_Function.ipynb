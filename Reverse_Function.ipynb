{
 "cells": [
  {
   "cell_type": "code",
   "execution_count": 3,
   "id": "b3bee476",
   "metadata": {},
   "outputs": [],
   "source": [
    "string = 'Hello World!'"
   ]
  },
  {
   "cell_type": "code",
   "execution_count": 4,
   "id": "29ee9fb1",
   "metadata": {},
   "outputs": [],
   "source": [
    "def reverse_string(string1):\n",
    "    reverse_string = \"\"  \n",
    "    for i in string:\n",
    "        reverse_string = i + reverse_string   \n",
    "        \n",
    "    return reverse_string"
   ]
  },
  {
   "cell_type": "code",
   "execution_count": 5,
   "id": "7b64f6bc",
   "metadata": {},
   "outputs": [
    {
     "data": {
      "text/plain": [
       "'!dlroW olleH'"
      ]
     },
     "execution_count": 5,
     "metadata": {},
     "output_type": "execute_result"
    }
   ],
   "source": [
    "reverse_string(string)"
   ]
  },
  {
   "cell_type": "code",
   "execution_count": 6,
   "id": "836b67c6",
   "metadata": {},
   "outputs": [],
   "source": [
    "def reversee(string):\n",
    "    \n",
    "    reverse = string[::-1]\n",
    "    return reverse"
   ]
  },
  {
   "cell_type": "code",
   "execution_count": 7,
   "id": "f62b9e04",
   "metadata": {},
   "outputs": [
    {
     "data": {
      "text/plain": [
       "'!dlroW olleH'"
      ]
     },
     "execution_count": 7,
     "metadata": {},
     "output_type": "execute_result"
    }
   ],
   "source": [
    "reversee(string)"
   ]
  },
  {
   "cell_type": "code",
   "execution_count": 10,
   "id": "1b39f9be",
   "metadata": {},
   "outputs": [],
   "source": [
    "def swap_reverse():\n",
    "    \n",
    "    start = 0 \n",
    "    end = len(string) - 1\n",
    "    \n",
    "    string_list = list(string)\n",
    "    while start < end:\n",
    "        string_list[start],string_list[end] = string_list[end],string_list[start]\n",
    "        start+=1\n",
    "        end-=1\n",
    "        \n",
    "    reverse_string = \"\"\n",
    "    for i in string_list:\n",
    "        \n",
    "        reverse_string = reverse_string + i\n",
    "        \n",
    "    return reverse_string"
   ]
  },
  {
   "cell_type": "code",
   "execution_count": 11,
   "id": "bb740704",
   "metadata": {},
   "outputs": [
    {
     "data": {
      "text/plain": [
       "'!dlroW olleH'"
      ]
     },
     "execution_count": 11,
     "metadata": {},
     "output_type": "execute_result"
    }
   ],
   "source": [
    "swap_reverse()"
   ]
  },
  {
   "cell_type": "code",
   "execution_count": null,
   "id": "d340ec70",
   "metadata": {},
   "outputs": [],
   "source": []
  }
 ],
 "metadata": {
  "kernelspec": {
   "display_name": "Python 3 (ipykernel)",
   "language": "python",
   "name": "python3"
  },
  "language_info": {
   "codemirror_mode": {
    "name": "ipython",
    "version": 3
   },
   "file_extension": ".py",
   "mimetype": "text/x-python",
   "name": "python",
   "nbconvert_exporter": "python",
   "pygments_lexer": "ipython3",
   "version": "3.11.5"
  }
 },
 "nbformat": 4,
 "nbformat_minor": 5
}
