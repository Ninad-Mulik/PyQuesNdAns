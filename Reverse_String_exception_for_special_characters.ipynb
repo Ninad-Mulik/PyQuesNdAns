{
 "cells": [
  {
   "cell_type": "code",
   "execution_count": 5,
   "id": "d6b42347",
   "metadata": {},
   "outputs": [],
   "source": [
    "string = 'Test1ngLeet=code-Q!'"
   ]
  },
  {
   "cell_type": "code",
   "execution_count": 33,
   "id": "1bb7d3bf",
   "metadata": {},
   "outputs": [],
   "source": [
    "def reverse_string_with_special_chars(string):\n",
    "    \n",
    "    input_list = []        \n",
    "    for i in string:     \n",
    "        input_list += i     \n",
    "    \n",
    "    start = 0                      \n",
    "    end = len(string) - 1\n",
    "    \n",
    "   \n",
    "    while start < end:  \n",
    "        \n",
    "        if not input_list[start].isalnum(): \n",
    "            start += 1                       \n",
    "        elif not input_list[end].isalnum():\n",
    "            end -= 1                         \n",
    "        \n",
    "        else:\n",
    "            \n",
    "            input_list[start], input_list[end] = input_list[end], input_list[start] \n",
    "  \n",
    "            start += 1   \n",
    "            end -= 1   \n",
    "    #print(input_list[start],input_list[end])   \n",
    "    reverse = ''\n",
    "    for i in input_list:\n",
    "        reverse = reverse + i   \n",
    "        \n",
    "    return reverse\n"
   ]
  },
  {
   "cell_type": "code",
   "execution_count": 34,
   "id": "7d7cb85a",
   "metadata": {},
   "outputs": [
    {
     "data": {
      "text/plain": [
       "'QedocteeLgn=1tse-T!'"
      ]
     },
     "execution_count": 34,
     "metadata": {},
     "output_type": "execute_result"
    }
   ],
   "source": [
    "reverse_string_with_special_chars(string)"
   ]
  },
  {
   "cell_type": "code",
   "execution_count": 25,
   "id": "1b6e3435",
   "metadata": {},
   "outputs": [],
   "source": [
    "a = 4   \n",
    "b = 5   "
   ]
  },
  {
   "cell_type": "code",
   "execution_count": 26,
   "id": "e72eef17",
   "metadata": {},
   "outputs": [
    {
     "data": {
      "text/plain": [
       "(5, 4)"
      ]
     },
     "execution_count": 26,
     "metadata": {},
     "output_type": "execute_result"
    }
   ],
   "source": [
    "a,b"
   ]
  },
  {
   "cell_type": "code",
   "execution_count": null,
   "id": "d3538924",
   "metadata": {},
   "outputs": [],
   "source": []
  },
  {
   "cell_type": "code",
   "execution_count": 36,
   "id": "a5334000",
   "metadata": {},
   "outputs": [
    {
     "name": "stdout",
     "output_type": "stream",
     "text": [
      "7\n",
      "0\n",
      "1\n",
      "2\n",
      "3\n",
      "4\n",
      "5\n",
      "6\n",
      "7\n"
     ]
    }
   ],
   "source": [
    "#rough work\n",
    "a = 'lddaefef'\n",
    "print(len(a)-1)\n",
    "for i in range(len(a)):\n",
    "    print(i)\n",
    "    \n",
    "    "
   ]
  },
  {
   "cell_type": "code",
   "execution_count": null,
   "id": "94f83f27",
   "metadata": {},
   "outputs": [],
   "source": []
  },
  {
   "cell_type": "code",
   "execution_count": null,
   "id": "abf17828",
   "metadata": {},
   "outputs": [],
   "source": []
  }
 ],
 "metadata": {
  "kernelspec": {
   "display_name": "Python 3 (ipykernel)",
   "language": "python",
   "name": "python3"
  },
  "language_info": {
   "codemirror_mode": {
    "name": "ipython",
    "version": 3
   },
   "file_extension": ".py",
   "mimetype": "text/x-python",
   "name": "python",
   "nbconvert_exporter": "python",
   "pygments_lexer": "ipython3",
   "version": "3.11.5"
  }
 },
 "nbformat": 4,
 "nbformat_minor": 5
}
