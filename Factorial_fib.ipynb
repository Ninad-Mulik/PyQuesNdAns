{
 "cells": [
  {
   "cell_type": "code",
   "execution_count": null,
   "id": "8ccd11b5",
   "metadata": {},
   "outputs": [],
   "source": [
    "#factorial"
   ]
  },
  {
   "cell_type": "code",
   "execution_count": 1,
   "id": "86b1db17",
   "metadata": {
    "scrolled": true
   },
   "outputs": [],
   "source": [
    "def factorial_function(number):\n",
    "   \n",
    "    t = 1\n",
    "    remains = 1\n",
    "    \n",
    "    factorial = 0\n",
    "    while number < 0:\n",
    "        number = int(input('Enter only positive number : '))\n",
    "        \n",
    "    \n",
    "    while 0 < t < number :\n",
    "        remains = remains * (number - t)\n",
    "        t += 1\n",
    "        #print(remains)\n",
    "        factorial = number * remains\n",
    "    return factorial\n"
   ]
  },
  {
   "cell_type": "code",
   "execution_count": 2,
   "id": "c3f1d270",
   "metadata": {},
   "outputs": [
    {
     "name": "stdout",
     "output_type": "stream",
     "text": [
      "Enter only positive number : 5\n"
     ]
    },
    {
     "data": {
      "text/plain": [
       "120"
      ]
     },
     "execution_count": 2,
     "metadata": {},
     "output_type": "execute_result"
    }
   ],
   "source": [
    "factorial_function(-5)"
   ]
  },
  {
   "cell_type": "code",
   "execution_count": null,
   "id": "cf462e20",
   "metadata": {},
   "outputs": [],
   "source": []
  },
  {
   "cell_type": "code",
   "execution_count": null,
   "id": "5b0170d4",
   "metadata": {},
   "outputs": [],
   "source": [
    "#************************************************************# pain in those wordz, do you hear when i talk"
   ]
  },
  {
   "cell_type": "code",
   "execution_count": null,
   "id": "f5e89943",
   "metadata": {},
   "outputs": [],
   "source": [
    "def factorial_function(number):\n",
    "    #number = int(input('Enter the number : '))\n",
    "    t = 1\n",
    "    remains = 1\n",
    "    remains_sum = 0\n",
    "    \n",
    "    while 0 < t < number :\n",
    "        remains = remains * (number - t)\n",
    "        remains_sum = remains_sum + (number - t)\n",
    "        \n",
    "        t += 1\n",
    "        print(remains)\n",
    "    factorial = number * remains\n",
    "    sums = number + remains_sum\n",
    "    return factorial,sums\n"
   ]
  },
  {
   "cell_type": "code",
   "execution_count": null,
   "id": "f8f381b3",
   "metadata": {
    "scrolled": true
   },
   "outputs": [],
   "source": [
    "factorial_function(6)"
   ]
  },
  {
   "cell_type": "code",
   "execution_count": null,
   "id": "ea2406eb",
   "metadata": {},
   "outputs": [],
   "source": [
    "\n",
    "for i in range(1,6):\n",
    "    for j in range(i):\n",
    "        print(j)\n",
    "    "
   ]
  },
  {
   "cell_type": "code",
   "execution_count": null,
   "id": "8c6ebeea",
   "metadata": {},
   "outputs": [],
   "source": [
    "#Write a program that generates the first 10 numbers in the Fibonacci sequence \n",
    "#and calculates the sum of only the even numbers.\n",
    "'''\n",
    "0 + 1 = 1\n",
    "1 + 1 = 2\n",
    "1 + 2 = 3\n",
    "2 + 3 = 5\n",
    "3 + 5 = 8\n",
    "5 + 8 = 13\n",
    "\n",
    "'''"
   ]
  },
  {
   "cell_type": "code",
   "execution_count": 3,
   "id": "e0c9a673",
   "metadata": {},
   "outputs": [
    {
     "name": "stdout",
     "output_type": "stream",
     "text": [
      "[1, 3, 5, 7, 9, 11, 13, 15, 17, 19]\n"
     ]
    }
   ],
   "source": [
    "#def fibonacci_sum(number):\n",
    "list_num = [0,1,2,3,4,5,6,7,8,9,10]\n",
    "    \n",
    "list_fib = []\n",
    "    \n",
    "for i in range(len(list_num) - 1):\n",
    "    next_num = list_num[i] + list_num[i+1]\n",
    "    list_fib.append(next_num)\n",
    "    \n",
    "print(list_fib)\n",
    "    \n",
    "    "
   ]
  },
  {
   "cell_type": "code",
   "execution_count": 5,
   "id": "bf59b440",
   "metadata": {
    "scrolled": true
   },
   "outputs": [],
   "source": [
    "def fib_sum():\n",
    "    list_fib = [0,1]\n",
    "    sum_of_fib_num = 0\n",
    "\n",
    "    while len(list_fib) < 10:\n",
    "        fib = list_fib[-1] + list_fib[-2]\n",
    "        list_fib.append(fib)\n",
    "        #print(list_fib)\n",
    "        \n",
    "    for i in list_fib:\n",
    "        sum_of_fib_num = i + sum_of_fib_num\n",
    "        #print(sum_of_fib_num)\n",
    "    return list_fib , sum_of_fib_num"
   ]
  },
  {
   "cell_type": "code",
   "execution_count": 6,
   "id": "98f777d3",
   "metadata": {},
   "outputs": [
    {
     "data": {
      "text/plain": [
       "([0, 1, 1, 2, 3, 5, 8, 13, 21, 34], 88)"
      ]
     },
     "execution_count": 6,
     "metadata": {},
     "output_type": "execute_result"
    }
   ],
   "source": [
    "fib_sum()"
   ]
  },
  {
   "cell_type": "code",
   "execution_count": null,
   "id": "b51ad246",
   "metadata": {},
   "outputs": [],
   "source": [
    "list_fib = [0,1]\n",
    "\n",
    "while len(list_fib) < 10:\n",
    "    fib = list_fib[-1] + list_fib[-2]\n",
    "    list_fib.append(fib)\n",
    "    print(list_fib)"
   ]
  },
  {
   "cell_type": "code",
   "execution_count": null,
   "id": "66f30885",
   "metadata": {},
   "outputs": [],
   "source": [
    "# area of sphere "
   ]
  },
  {
   "cell_type": "code",
   "execution_count": null,
   "id": "7e20729a",
   "metadata": {},
   "outputs": [],
   "source": [
    "import math \n",
    "def area_of_sphere(radius):\n",
    "    pi = round(math.pi,2)\n",
    "    area = 4 * pi * radius * radius\n",
    "    print(pi)\n",
    "    area = round(area,3)\n",
    "    return area"
   ]
  },
  {
   "cell_type": "code",
   "execution_count": null,
   "id": "85828595",
   "metadata": {},
   "outputs": [],
   "source": [
    "area_of_sphere(2)"
   ]
  },
  {
   "cell_type": "code",
   "execution_count": null,
   "id": "1270d787",
   "metadata": {},
   "outputs": [],
   "source": []
  },
  {
   "cell_type": "code",
   "execution_count": null,
   "id": "d39eb698",
   "metadata": {},
   "outputs": [],
   "source": [
    "# rock paper scissor game"
   ]
  },
  {
   "cell_type": "code",
   "execution_count": 7,
   "id": "0d856b30",
   "metadata": {
    "scrolled": true
   },
   "outputs": [],
   "source": [
    "import random\n",
    "\n",
    "def start_game(User_input):\n",
    "    \n",
    "    #User = print('Enter rock, paper or scissor : ')\n",
    "    User_input = User_input.upper()\n",
    "\n",
    "    computer = ['ROCK','PAPER','SCISSOR']\n",
    "    computer_turn = random.choice(computer)\n",
    "\n",
    "    print('COMPUTER : ' + computer_turn ,' PLAYER : ' + User_input )\n",
    "\n",
    "    if computer_turn == 'ROCK':\n",
    "        if User_input == 'ROCK':\n",
    "            print('Tie')\n",
    "        elif User_input == 'PAPER':\n",
    "            print('Congratzz...')\n",
    "        elif User_input == 'SCISSOR':\n",
    "            print(\"YUH LOSE\")\n",
    "        else:\n",
    "            print('PLAY FAIR...')\n",
    "        \n",
    "    elif computer_turn == 'PAPER':\n",
    "        if User_input == 'ROCK':\n",
    "            print('Yuh LOSE')\n",
    "        elif User_input == 'PAPER':\n",
    "            print('Tie')\n",
    "        elif User_input == 'SCISSOR':\n",
    "            print(\"CONGRATS\")\n",
    "        else:\n",
    "            print('PLAY FAIR...')\n",
    "      \n",
    "        \n",
    "    elif computer_turn == 'SCISSOR':\n",
    "        if User_input == 'ROCK':\n",
    "            print('COngrats')\n",
    "        elif User_input == 'PAPER':\n",
    "            print('Yuh Lose')\n",
    "        elif User_input == 'SCISSOR':\n",
    "            print(\"TIE\")\n",
    "        else:\n",
    "            print('PLAY FAIR...')   \n",
    "    else:\n",
    "        print('Play fair broo..')\n",
    "    return 'well played..'\n",
    "\n"
   ]
  },
  {
   "cell_type": "code",
   "execution_count": 8,
   "id": "7aa159c2",
   "metadata": {},
   "outputs": [
    {
     "name": "stdout",
     "output_type": "stream",
     "text": [
      "COMPUTER : SCISSOR  PLAYER : GO\n",
      "PLAY FAIR...\n"
     ]
    },
    {
     "data": {
      "text/plain": [
       "'well played..'"
      ]
     },
     "execution_count": 8,
     "metadata": {},
     "output_type": "execute_result"
    }
   ],
   "source": [
    "start_game('GO')\n"
   ]
  },
  {
   "cell_type": "code",
   "execution_count": 16,
   "id": "12277a6b",
   "metadata": {},
   "outputs": [],
   "source": [
    "def palindrome_functiom(string):\n",
    "    index = len(string)\n",
    "    reversed_word = ''\n",
    "    for i in string:\n",
    "        reversed_word = i + reversed_word\n",
    "    print(reversed_word)\n",
    "    \n",
    "    if reversed_word == string:\n",
    "        return ('It is a palindrome. ')"
   ]
  },
  {
   "cell_type": "code",
   "execution_count": 17,
   "id": "96bc0d69",
   "metadata": {},
   "outputs": [
    {
     "name": "stdout",
     "output_type": "stream",
     "text": [
      "level\n"
     ]
    },
    {
     "data": {
      "text/plain": [
       "'It is a palindrome. '"
      ]
     },
     "execution_count": 17,
     "metadata": {},
     "output_type": "execute_result"
    }
   ],
   "source": [
    "palindrome_functiom('level')"
   ]
  },
  {
   "cell_type": "code",
   "execution_count": null,
   "id": "28a614bb",
   "metadata": {},
   "outputs": [],
   "source": []
  },
  {
   "cell_type": "code",
   "execution_count": 7,
   "id": "eeaedebc",
   "metadata": {},
   "outputs": [],
   "source": [
    "\n",
    "\n",
    "def factoriall(number):\n",
    "    remains = 1\n",
    "    \n",
    "    for i in range(1,number - 1):\n",
    "        remains *= number - i \n",
    "        \n",
    "    factorial = number * remains   \n",
    "        \n",
    "    return factorial"
   ]
  },
  {
   "cell_type": "code",
   "execution_count": 12,
   "id": "86e7ab8f",
   "metadata": {},
   "outputs": [
    {
     "data": {
      "text/plain": [
       "24"
      ]
     },
     "execution_count": 12,
     "metadata": {},
     "output_type": "execute_result"
    }
   ],
   "source": [
    "factoriall(4)"
   ]
  },
  {
   "cell_type": "code",
   "execution_count": 19,
   "id": "57a8e21b",
   "metadata": {},
   "outputs": [
    {
     "data": {
      "text/plain": [
       "range(1, 10)"
      ]
     },
     "execution_count": 19,
     "metadata": {},
     "output_type": "execute_result"
    }
   ],
   "source": [
    "range(1,10)"
   ]
  },
  {
   "cell_type": "code",
   "execution_count": null,
   "id": "92e31b9c",
   "metadata": {},
   "outputs": [],
   "source": [
    "At a fun fair, a street vendor is selling different colours of balloons.\n",
    "He sells N number of different colours of balloons (B[]). \n",
    "The task is to find the colour (odd) of the balloon which is present odd number of times in the bunch of balloons.\n",
    "\n",
    "Note: If there is more than one colour which is odd in number,\n",
    "then the first colour in the array which is present odd number of times is displayed.\n",
    "The colours of the balloons can all be either upper case or lower case in the array. \n",
    "If all the inputs are even in number, display the message “All are even”.\n",
    "\n",
    "Example 1:\n",
    "\n",
    "7  -> Value of N\n",
    "[r,g,b,b,g,y,y]  -> B[] Elements B[0] to B[N-1], where each input element is sepārated by ṉew line.\n",
    "Output :\n",
    "\n",
    "r -> [r,g,b,b,g,y,y]  -> “r” colour balloon is present odd number of times in the bunch.\n",
    "Explanation:\n",
    "From the input array above:\n",
    "\n",
    "r: 1 balloon \n",
    "g: 2 balloons\n",
    "b:  2 balloons\n",
    "y : 2 balloons\n",
    "Hence , r is only the balloon which is odd in number.\n",
    "Example 2:\n",
    "Input:\n",
    "\n",
    "10 -> Value of N\n",
    "[a,b,b,b,c,c,c,a,f,c] -> B[], elements B[0] to B[N-1] where input each element is separated by new line.\n",
    "Output :\n",
    "b-> ‘b’ colour balloon is present odd number of times in the bunch.\n",
    "\n",
    "Explanation:\n",
    "From the input array above:\n",
    "\n",
    "a: 2 balloons\n",
    "b: 3 balloons \n",
    "c: 4 balloons \n",
    "f: 1 balloons \n",
    "Here, both ‘b’ and ‘f’ have odd number of balloons. But ‘b’ colour balloon occurs first.\n",
    "Hence , b is the output.\n",
    "\n",
    "Input Format for testing\n",
    "The candidate has to write the code to accept: 2 input \n",
    "\n",
    "First input: Accept value for number of N(Positive integer number).\n",
    "Second Input : Accept N number of character values (B[]), where each value is separated by a new line.\n",
    "Output format for testing\n",
    "The output should be a single literal (Check the output in example 1 and example 2)\n",
    "\n",
    "Constraints:\n",
    "\n",
    "3<=N<=50\n",
    "B[i]={{a-z} or {A-Z}}\n"
   ]
  },
  {
   "cell_type": "code",
   "execution_count": 30,
   "id": "bd1bd994",
   "metadata": {},
   "outputs": [],
   "source": [
    "def ballonz_pick(N,B):\n",
    "    \n",
    "    ballonz_sold = []\n",
    "    count = {}\n",
    "    for i in B:\n",
    "        ballonz_sold.append(i)\n",
    "        \n",
    "    for i in ballonz_sold:\n",
    "        \n",
    "        if i in count:\n",
    "            count[i] += 1\n",
    "        else:\n",
    "            count[i] = 1\n",
    "    print(count)\n",
    "    for j in count.values():\n",
    "        if j % 2 != 0:\n",
    "            return j\n"
   ]
  },
  {
   "cell_type": "code",
   "execution_count": 32,
   "id": "1d9dfedf",
   "metadata": {},
   "outputs": [
    {
     "name": "stdout",
     "output_type": "stream",
     "text": [
      "{'g': 3, 'w': 1, 'e': 1, 'd': 1, 'a': 1}\n"
     ]
    },
    {
     "data": {
      "text/plain": [
       "3"
      ]
     },
     "execution_count": 32,
     "metadata": {},
     "output_type": "execute_result"
    }
   ],
   "source": [
    "ballonz_pick(7,'gggweda')\n"
   ]
  },
  {
   "cell_type": "code",
   "execution_count": null,
   "id": "ae70546b",
   "metadata": {},
   "outputs": [],
   "source": [
    "def find_odd_balloon(N, B):\n",
    "    count = {}  # Dictionary to store the count of each color\n",
    "    \n",
    "    # Iterate through the list of balloons\n",
    "    for color in B:\n",
    "        # Update the count for the color\n",
    "        if color in count:\n",
    "            count[color] += 1\n",
    "        else:\n",
    "            count[color] = 1\n",
    "    \n",
    "    # Find the first color that occurs an odd number of times\n",
    "    for color in B:\n",
    "        if count[color] % 2 != 0:\n",
    "            return color\n",
    "    \n",
    "    # If all colors occur even number of times\n",
    "    return \"All are even\"\n",
    "\n",
    "# Example usage:\n",
    "N = int(input(\"Enter the number of balloons: \"))  # Input N\n",
    "B = input(\"Enter the colors of balloons separated by space: \").split()  # Input B as list of colors\n",
    "print(B)\n",
    "result = find_odd_balloon(N, B)  # Call the function\n",
    "print(result)  # Output the result"
   ]
  },
  {
   "cell_type": "code",
   "execution_count": null,
   "id": "2c0504c6",
   "metadata": {},
   "outputs": [],
   "source": []
  },
  {
   "cell_type": "code",
   "execution_count": null,
   "id": "e3f05f24",
   "metadata": {},
   "outputs": [],
   "source": [
    "Problem Statement\n",
    "A doctor has a clinic where he serves his patients. \n",
    "The doctor’s consultation fees are different for different groups of patients depending on their age. \n",
    "If the patient’s age is below 17, fees is 200 INR. If the patient’s age is between 17 and 40, fees is 400 INR. \n",
    "If patient’s age is above 40, fees is 300 INR. Write a code to calculate earnings in a day for which one array/List \n",
    "of values representing age of patients visited on that day is passed as input.\n",
    "Note:\n",
    "\n",
    "Age should not be zero or less than zero or above 120\n",
    "Doctor consults a maximum of 20 patients a day\n",
    "Enter age value (press Enter without a value to stop):"
   ]
  },
  {
   "cell_type": "code",
   "execution_count": 62,
   "id": "73cd1356",
   "metadata": {},
   "outputs": [],
   "source": [
    "def doc():\n",
    "    age = []\n",
    "    for i in range(5):\n",
    "        age_p = int(input('ENTER AGE|'))\n",
    "        if age_p in range(0,120):\n",
    "            age.append(age_p)\n",
    "            \n",
    "        else:\n",
    "            print('Invalid input')\n",
    "    feez = 0\n",
    "    for k in age:\n",
    "        if k > 17:\n",
    "            feez+=200\n",
    "        elif 17>=k>=40:\n",
    "            feez+=400\n",
    "        else:\n",
    "            feez+=300\n",
    "    return f'Total Income {feez} INR'"
   ]
  },
  {
   "cell_type": "code",
   "execution_count": 63,
   "id": "664f4d86",
   "metadata": {
    "scrolled": true
   },
   "outputs": [
    {
     "name": "stdout",
     "output_type": "stream",
     "text": [
      "ENTER AGE|4\n",
      "ENTER AGE|5\n",
      "ENTER AGE|5\n",
      "ENTER AGE|5\n",
      "ENTER AGE|5\n"
     ]
    },
    {
     "data": {
      "text/plain": [
       "'Total Income 1500 INR'"
      ]
     },
     "execution_count": 63,
     "metadata": {},
     "output_type": "execute_result"
    }
   ],
   "source": [
    "doc()"
   ]
  },
  {
   "cell_type": "code",
   "execution_count": 12,
   "id": "e3bb415e",
   "metadata": {},
   "outputs": [],
   "source": [
    "age = []\n",
    "for i in range(len(age)):\n",
    "    age_p = int(input())4\n",
    "    \n",
    "    if age_p in range(0,120):\n",
    "        age.append(age_p)"
   ]
  },
  {
   "cell_type": "code",
   "execution_count": 83,
   "id": "72d5b46a",
   "metadata": {},
   "outputs": [
    {
     "name": "stdout",
     "output_type": "stream",
     "text": [
      "0\n",
      "death\n",
      "1\n",
      "kill\n",
      "2\n",
      "fear\n",
      "***********************************\n",
      "0\n",
      "deathp\n",
      "1\n",
      "kildl\n",
      "2\n",
      "feadr\n"
     ]
    }
   ],
   "source": [
    "passs = ['death','kill','fear']\n",
    "for i in range(len(names)):\n",
    "    print(i)\n",
    "    print(passs[i])\n",
    "print('***********************************')\n",
    "names = ['deathp', 'kildl', 'feadr']\n",
    "for i in range(len(names)):\n",
    "    print(i)\n",
    "    print(names[i])"
   ]
  },
  {
   "cell_type": "code",
   "execution_count": 82,
   "id": "2f7839db",
   "metadata": {},
   "outputs": [
    {
     "data": {
      "text/plain": [
       "range(0, 3)"
      ]
     },
     "execution_count": 82,
     "metadata": {},
     "output_type": "execute_result"
    }
   ],
   "source": [
    "range(len(names))"
   ]
  },
  {
   "cell_type": "code",
   "execution_count": 66,
   "id": "b6b17499",
   "metadata": {},
   "outputs": [],
   "source": [
    "passs = ['sun','moon'] \n",
    "for i in range(len(passs)):\n",
    "    passs[i] = passs[i] + 'day'\n",
    "    "
   ]
  },
  {
   "cell_type": "code",
   "execution_count": 67,
   "id": "9329cc47",
   "metadata": {},
   "outputs": [
    {
     "data": {
      "text/plain": [
       "['sunday', 'moonday']"
      ]
     },
     "execution_count": 67,
     "metadata": {},
     "output_type": "execute_result"
    }
   ],
   "source": [
    "passs"
   ]
  },
  {
   "cell_type": "code",
   "execution_count": 77,
   "id": "db485906",
   "metadata": {},
   "outputs": [
    {
     "name": "stdout",
     "output_type": "stream",
     "text": [
      "0\n",
      "death\n",
      "1\n",
      "kill\n",
      "2\n",
      "fear\n"
     ]
    }
   ],
   "source": []
  },
  {
   "cell_type": "code",
   "execution_count": 84,
   "id": "cb01707f",
   "metadata": {},
   "outputs": [],
   "source": [
    "squares = [i ** 2 for i in range(0,11)]"
   ]
  },
  {
   "cell_type": "code",
   "execution_count": 85,
   "id": "7e43da41",
   "metadata": {},
   "outputs": [
    {
     "data": {
      "text/plain": [
       "[0, 1, 4, 9, 16, 25, 36, 49, 64, 81, 100]"
      ]
     },
     "execution_count": 85,
     "metadata": {},
     "output_type": "execute_result"
    }
   ],
   "source": [
    "squares\n"
   ]
  },
  {
   "cell_type": "code",
   "execution_count": 86,
   "id": "61167ab5",
   "metadata": {},
   "outputs": [],
   "source": [
    "#Given a list of words, create a new list containing only the words that have more than 5 characters."
   ]
  },
  {
   "cell_type": "code",
   "execution_count": 90,
   "id": "7786a6fd",
   "metadata": {},
   "outputs": [],
   "source": [
    "given_list = ['toji','gojo','itadori','yuta','geto','megumi']\n",
    "test_list = [ i for i in given_list if len(i) < 5]"
   ]
  },
  {
   "cell_type": "code",
   "execution_count": 91,
   "id": "2bd0e036",
   "metadata": {},
   "outputs": [
    {
     "data": {
      "text/plain": [
       "['toji', 'gojo', 'yuta', 'geto']"
      ]
     },
     "execution_count": 91,
     "metadata": {},
     "output_type": "execute_result"
    }
   ],
   "source": [
    "test_list"
   ]
  },
  {
   "cell_type": "code",
   "execution_count": null,
   "id": "fd93b279",
   "metadata": {},
   "outputs": [],
   "source": [
    "#Medium: Given two lists, create a new list containing the common elements between the two lists."
   ]
  },
  {
   "cell_type": "code",
   "execution_count": 93,
   "id": "acf1a5b0",
   "metadata": {},
   "outputs": [
    {
     "data": {
      "text/plain": [
       "['kills', 'bad', 'peepal']"
      ]
     },
     "execution_count": 93,
     "metadata": {},
     "output_type": "execute_result"
    }
   ],
   "source": [
    "\n",
    "#for i in list:\n",
    "  #  if i in list:\n",
    "    #    done ... \n",
    "    \n",
    "    \n",
    "list_one = ['kkk','kills','white','bad','peepal']\n",
    "list_two = ['kills','hate','fool','yuh','bad','peepal']\n",
    "\n",
    "common_list = [i for i in list_one if i in list_two]\n",
    "common_list"
   ]
  },
  {
   "cell_type": "code",
   "execution_count": null,
   "id": "39d7f01e",
   "metadata": {},
   "outputs": [],
   "source": [
    "#Hard: Given a list of strings, create a new list where each string is reversed."
   ]
  },
  {
   "cell_type": "code",
   "execution_count": null,
   "id": "9e162791",
   "metadata": {},
   "outputs": [],
   "source": [
    "given_list1 = ['itachi','kakashi','obito']\n",
    "new_list2 = [for i in given_list1 ]"
   ]
  }
 ],
 "metadata": {
  "kernelspec": {
   "display_name": "Python 3 (ipykernel)",
   "language": "python",
   "name": "python3"
  },
  "language_info": {
   "codemirror_mode": {
    "name": "ipython",
    "version": 3
   },
   "file_extension": ".py",
   "mimetype": "text/x-python",
   "name": "python",
   "nbconvert_exporter": "python",
   "pygments_lexer": "ipython3",
   "version": "3.11.5"
  }
 },
 "nbformat": 4,
 "nbformat_minor": 5
}
