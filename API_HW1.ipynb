{
 "cells": [
  {
   "cell_type": "code",
   "execution_count": 1,
   "id": "d561b751",
   "metadata": {},
   "outputs": [],
   "source": [
    "from flask import Flask,request"
   ]
  },
  {
   "cell_type": "code",
   "execution_count": 2,
   "id": "557840cb",
   "metadata": {},
   "outputs": [],
   "source": [
    "App = Flask(__name__)"
   ]
  },
  {
   "cell_type": "code",
   "execution_count": 3,
   "id": "97f5792a",
   "metadata": {},
   "outputs": [],
   "source": [
    "@App.route('/', methods = ['GET','POST'])\n",
    "def Welcome():\n",
    "    \n",
    "    if request.method == 'POST':\n",
    "        data = request.get_json()\n",
    "        print(data)\n",
    "        \n",
    "    elif request.method == 'GET':\n",
    "        return \"Welcome\""
   ]
  },
  {
   "cell_type": "code",
   "execution_count": null,
   "id": "d1d4e808",
   "metadata": {},
   "outputs": [
    {
     "name": "stdout",
     "output_type": "stream",
     "text": [
      " * Serving Flask app '__main__'\n",
      " * Debug mode: off\n"
     ]
    },
    {
     "name": "stderr",
     "output_type": "stream",
     "text": [
      "WARNING: This is a development server. Do not use it in a production deployment. Use a production WSGI server instead.\n",
      " * Running on http://127.0.0.1:5678\n",
      "Press CTRL+C to quit\n",
      "127.0.0.1 - - [10/Apr/2024 18:37:48] \"GET / HTTP/1.1\" 200 -\n",
      "[2024-04-10 18:37:54,357] ERROR in app: Exception on / [POST]\n",
      "Traceback (most recent call last):\n",
      "  File \"C:\\Anaconda\\Lib\\site-packages\\flask\\app.py\", line 2525, in wsgi_app\n",
      "    response = self.full_dispatch_request()\n",
      "               ^^^^^^^^^^^^^^^^^^^^^^^^^^^^\n",
      "  File \"C:\\Anaconda\\Lib\\site-packages\\flask\\app.py\", line 1823, in full_dispatch_request\n",
      "    return self.finalize_request(rv)\n",
      "           ^^^^^^^^^^^^^^^^^^^^^^^^^\n",
      "  File \"C:\\Anaconda\\Lib\\site-packages\\flask\\app.py\", line 1842, in finalize_request\n",
      "    response = self.make_response(rv)\n",
      "               ^^^^^^^^^^^^^^^^^^^^^^\n",
      "  File \"C:\\Anaconda\\Lib\\site-packages\\flask\\app.py\", line 2134, in make_response\n",
      "    raise TypeError(\n",
      "TypeError: The view function for 'Welcome' did not return a valid response. The function either returned None or ended without a return statement.\n",
      "127.0.0.1 - - [10/Apr/2024 18:37:54] \"POST / HTTP/1.1\" 500 -\n"
     ]
    },
    {
     "name": "stdout",
     "output_type": "stream",
     "text": [
      "{'watup': 'how do i get here?'}\n"
     ]
    },
    {
     "name": "stderr",
     "output_type": "stream",
     "text": [
      "127.0.0.1 - - [10/Apr/2024 18:38:30] \"GET / HTTP/1.1\" 200 -\n"
     ]
    }
   ],
   "source": [
    "if __name__ == '__main__':\n",
    "    App.run(port=5678)"
   ]
  },
  {
   "cell_type": "code",
   "execution_count": null,
   "id": "58cdb6bf",
   "metadata": {},
   "outputs": [],
   "source": []
  }
 ],
 "metadata": {
  "kernelspec": {
   "display_name": "Python 3 (ipykernel)",
   "language": "python",
   "name": "python3"
  },
  "language_info": {
   "codemirror_mode": {
    "name": "ipython",
    "version": 3
   },
   "file_extension": ".py",
   "mimetype": "text/x-python",
   "name": "python",
   "nbconvert_exporter": "python",
   "pygments_lexer": "ipython3",
   "version": "3.11.5"
  }
 },
 "nbformat": 4,
 "nbformat_minor": 5
}
