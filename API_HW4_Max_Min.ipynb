{
 "cells": [
  {
   "cell_type": "code",
   "execution_count": 1,
   "id": "0e254a90",
   "metadata": {},
   "outputs": [],
   "source": [
    "from flask import Flask,request"
   ]
  },
  {
   "cell_type": "code",
   "execution_count": 2,
   "id": "ef6544da",
   "metadata": {},
   "outputs": [],
   "source": [
    "app = Flask(__name__)"
   ]
  },
  {
   "cell_type": "code",
   "execution_count": 3,
   "id": "7bc809e2",
   "metadata": {},
   "outputs": [],
   "source": [
    "@app.route('/',methods=['POST','GET'])\n",
    "def Min_Max():\n",
    "    \n",
    "    if request.method == 'POST':\n",
    "        a = request.form.get('a')\n",
    "        b = request.form.get('b')\n",
    "        return min_max(a,b)\n",
    "    \n",
    "    elif request.method == 'GET':\n",
    "        return 'Cant tell juss do post to get min max'"
   ]
  },
  {
   "cell_type": "code",
   "execution_count": 4,
   "id": "1cd4c127",
   "metadata": {},
   "outputs": [],
   "source": [
    "def min_max(a,b):\n",
    "    if a>b :\n",
    "        return 'A is max'\n",
    "    else:\n",
    "        return 'B is max'"
   ]
  },
  {
   "cell_type": "code",
   "execution_count": null,
   "id": "9fd10fa8",
   "metadata": {},
   "outputs": [
    {
     "name": "stdout",
     "output_type": "stream",
     "text": [
      " * Serving Flask app '__main__'\n",
      " * Debug mode: off\n"
     ]
    },
    {
     "name": "stderr",
     "output_type": "stream",
     "text": [
      "WARNING: This is a development server. Do not use it in a production deployment. Use a production WSGI server instead.\n",
      " * Running on http://127.0.0.1:6123\n",
      "Press CTRL+C to quit\n",
      "127.0.0.1 - - [11/Apr/2024 18:15:17] \"POST / HTTP/1.1\" 200 -\n",
      "127.0.0.1 - - [11/Apr/2024 18:15:21] \"POST / HTTP/1.1\" 200 -\n"
     ]
    }
   ],
   "source": [
    "if __name__ == '__main__':\n",
    "    app.run(port=6123)"
   ]
  },
  {
   "cell_type": "code",
   "execution_count": null,
   "id": "0090573f",
   "metadata": {},
   "outputs": [],
   "source": []
  }
 ],
 "metadata": {
  "kernelspec": {
   "display_name": "Python 3 (ipykernel)",
   "language": "python",
   "name": "python3"
  },
  "language_info": {
   "codemirror_mode": {
    "name": "ipython",
    "version": 3
   },
   "file_extension": ".py",
   "mimetype": "text/x-python",
   "name": "python",
   "nbconvert_exporter": "python",
   "pygments_lexer": "ipython3",
   "version": "3.11.5"
  }
 },
 "nbformat": 4,
 "nbformat_minor": 5
}
