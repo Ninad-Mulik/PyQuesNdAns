{
 "cells": [
  {
   "cell_type": "code",
   "execution_count": 2,
   "id": "de42265c",
   "metadata": {},
   "outputs": [
    {
     "name": "stdout",
     "output_type": "stream",
     "text": [
      "enter how many times u want : 5\n"
     ]
    }
   ],
   "source": [
    "input_times = int(input('enter how many times u want : '))"
   ]
  },
  {
   "cell_type": "code",
   "execution_count": 10,
   "id": "e6b81fad",
   "metadata": {},
   "outputs": [],
   "source": [
    "def fib(input_times):\n",
    "    \n",
    "    fibonacci = [0,1]\n",
    "    for i in range(input_times-2):\n",
    "        new_fib = fibonacci[-1] + fibonacci[-2]\n",
    "        fibonacci.append(new_fib)\n",
    "        \n",
    "    return fibonacci"
   ]
  },
  {
   "cell_type": "code",
   "execution_count": 11,
   "id": "3922d207",
   "metadata": {},
   "outputs": [
    {
     "data": {
      "text/plain": [
       "[0, 1, 1, 2, 3]"
      ]
     },
     "execution_count": 11,
     "metadata": {},
     "output_type": "execute_result"
    }
   ],
   "source": [
    "fib(input_times)"
   ]
  },
  {
   "cell_type": "code",
   "execution_count": 17,
   "id": "ceb0d1e2",
   "metadata": {},
   "outputs": [],
   "source": [
    "n = 10"
   ]
  },
  {
   "cell_type": "code",
   "execution_count": 18,
   "id": "28802af8",
   "metadata": {},
   "outputs": [],
   "source": [
    "def fibonacci(n):\n",
    "    fib_sequence = [0, 1]\n",
    "    while len(fib_sequence) < n:\n",
    "        fib_sequence.append(fib_sequence[-1] + fib_sequence[-2])\n",
    "    return fib_sequence\n"
   ]
  },
  {
   "cell_type": "code",
   "execution_count": 19,
   "id": "7774fc5f",
   "metadata": {},
   "outputs": [
    {
     "data": {
      "text/plain": [
       "[0, 1, 1, 2, 3, 5, 8, 13, 21, 34]"
      ]
     },
     "execution_count": 19,
     "metadata": {},
     "output_type": "execute_result"
    }
   ],
   "source": [
    "fibonacci(n)"
   ]
  },
  {
   "cell_type": "code",
   "execution_count": null,
   "id": "c0a150ed",
   "metadata": {},
   "outputs": [],
   "source": []
  }
 ],
 "metadata": {
  "kernelspec": {
   "display_name": "Python 3 (ipykernel)",
   "language": "python",
   "name": "python3"
  },
  "language_info": {
   "codemirror_mode": {
    "name": "ipython",
    "version": 3
   },
   "file_extension": ".py",
   "mimetype": "text/x-python",
   "name": "python",
   "nbconvert_exporter": "python",
   "pygments_lexer": "ipython3",
   "version": "3.11.5"
  }
 },
 "nbformat": 4,
 "nbformat_minor": 5
}
