{
 "cells": [
  {
   "cell_type": "code",
   "execution_count": 30,
   "id": "8c3d445a",
   "metadata": {},
   "outputs": [],
   "source": [
    "listi = [1,2,3,4,5,6,7,8,9,10]\n",
    "\n",
    "def listy():\n",
    "    \n",
    "    \n",
    "    newy = []\n",
    "    # firsst 5 add 3 next 5 add 2\n",
    "    \n",
    "    for i in listi:\n",
    "        if i <= 5 :\n",
    "            k = i+5\n",
    "            newy.append(k)\n",
    "        else:\n",
    "            k = i+2\n",
    "            newy.append(k)\n",
    "    return newy\n"
   ]
  },
  {
   "cell_type": "code",
   "execution_count": 31,
   "id": "836c87c0",
   "metadata": {},
   "outputs": [
    {
     "data": {
      "text/plain": [
       "[6, 7, 8, 9, 10, 8, 9, 10, 11, 12]"
      ]
     },
     "execution_count": 31,
     "metadata": {},
     "output_type": "execute_result"
    }
   ],
   "source": [
    "listy()"
   ]
  },
  {
   "cell_type": "code",
   "execution_count": 28,
   "id": "39cd8f5c",
   "metadata": {},
   "outputs": [],
   "source": [
    "list2 = [4,5,7,8,6,5,4]\n",
    "def listyy():\n",
    "    for i in range(len(list2)):\n",
    "        print(i)\n",
    "        if i < 5:\n",
    "            list2[i] += 5\n",
    "        \n",
    "        else:\n",
    "            list2[i] += 2\n",
    "        print(list2)\n",
    "    return list2"
   ]
  },
  {
   "cell_type": "code",
   "execution_count": 29,
   "id": "c21f787c",
   "metadata": {},
   "outputs": [
    {
     "name": "stdout",
     "output_type": "stream",
     "text": [
      "0\n",
      "[9, 5, 7, 8, 6, 5, 4]\n",
      "1\n",
      "[9, 10, 7, 8, 6, 5, 4]\n",
      "2\n",
      "[9, 10, 12, 8, 6, 5, 4]\n",
      "3\n",
      "[9, 10, 12, 13, 6, 5, 4]\n",
      "4\n",
      "[9, 10, 12, 13, 11, 5, 4]\n",
      "5\n",
      "[9, 10, 12, 13, 11, 7, 4]\n",
      "6\n",
      "[9, 10, 12, 13, 11, 7, 6]\n"
     ]
    },
    {
     "data": {
      "text/plain": [
       "[9, 10, 12, 13, 11, 7, 6]"
      ]
     },
     "execution_count": 29,
     "metadata": {},
     "output_type": "execute_result"
    }
   ],
   "source": [
    "listyy()"
   ]
  },
  {
   "cell_type": "code",
   "execution_count": null,
   "id": "e36c53a2",
   "metadata": {},
   "outputs": [],
   "source": [
    "Problem Statement – Given a string S(input consisting) of ‘*’ and ‘#’. The length of the string is variable. \n",
    "The task is to find the minimum number of ‘*’ or ‘#’ to make it a valid string. \n",
    "The string is considered valid if the number of ‘*’ and ‘#’ are equal. The ‘*’ and ‘#’ can be at any position in the string.\n",
    "Note : The output will be a positive or negative integer based on number of ‘*’ and ‘#’ in the input string.\n",
    "\n",
    "(*>#): positive integer\n",
    "(#>*): negative integer\n",
    "(#=*): 0\n",
    "Example 1:\n",
    "Input 1:\n",
    "\n",
    "###***   -> Value of S\n",
    "Output :\n",
    "\n",
    "0   → number of * and # are equal"
   ]
  },
  {
   "cell_type": "code",
   "execution_count": null,
   "id": "a61b64c6",
   "metadata": {},
   "outputs": [],
   "source": [
    "stringg = 'sr*fs#wf#d*'\n",
    "variable = len(string)\n",
    "\n",
    "def if_string(stringg):\n",
    "    \n",
    "    "
   ]
  },
  {
   "cell_type": "code",
   "execution_count": 34,
   "id": "a6a89515",
   "metadata": {},
   "outputs": [
    {
     "name": "stdout",
     "output_type": "stream",
     "text": [
      "-1\n"
     ]
    }
   ],
   "source": [
    "s=\"Hel#*#lo*#\"\n",
    "a=0\n",
    "b=0\n",
    "for i in s:\n",
    "    if i=='*':\n",
    "        a+=1\n",
    "    elif i=='#':\n",
    "        b+=1\n",
    "print(a-b)"
   ]
  },
  {
   "cell_type": "code",
   "execution_count": null,
   "id": "c7d5b83f",
   "metadata": {},
   "outputs": [],
   "source": [
    "Problem Statement\n",
    "\n",
    "The Caesar cipher is a type of substitution cipher in which each alphabet \n",
    "in the plaintext or messages is shifted by a number of places down the alphabet.\n",
    "For example,with a shift of 1, P would be replaced by Q, Q would become R, and so on.\n",
    "To pass an encrypted message from one person to another, \n",
    "it is first necessary that both parties have the ‘Key’ for the cipher,\n",
    "so that the sender may encrypt and the receiver may decrypt it.\n",
    "Key is the number of OFFSET to shift the cipher alphabet. \n",
    "Key can have basic shifts from 1 to 25 positions as there are 26 total alphabets.\n",
    "As we are designing custom Caesar Cipher, in addition to alphabets,\n",
    "we are considering numeric digits from 0 to 9. Digits can also be shifted by key places.\n",
    "For Example, if a given plain text contains any digit with values 5 and keyy =2, \n",
    "then 5 will be replaced by 7, “-”(minus sign) will remain as it is. \n",
    "Key value less than 0 should result into “INVALID INPUT”\n",
    "\n",
    "Example 1:\n",
    "Enter your PlainText: All the best\n",
    "Enter the Key: 1\n",
    "\n",
    "The encrypted Text is: Bmm uif Cftu\n",
    "\n",
    "Write a function CustomCaesarCipher(int key, String message) \n",
    "which will accept plaintext and key as input parameters and returns its cipher text as output."
   ]
  },
  {
   "cell_type": "code",
   "execution_count": 37,
   "id": "6d623d42",
   "metadata": {},
   "outputs": [],
   "source": [
    "key = 1"
   ]
  },
  {
   "cell_type": "code",
   "execution_count": 38,
   "id": "66187911",
   "metadata": {},
   "outputs": [
    {
     "data": {
      "text/plain": [
       "'B'"
      ]
     },
     "execution_count": 38,
     "metadata": {},
     "output_type": "execute_result"
    }
   ],
   "source": [
    "chr((ord('A') + key-65) % 26 + 65)"
   ]
  },
  {
   "cell_type": "code",
   "execution_count": 44,
   "id": "56e27120",
   "metadata": {},
   "outputs": [
    {
     "data": {
      "text/plain": [
       "'\\t'"
      ]
     },
     "execution_count": 44,
     "metadata": {},
     "output_type": "execute_result"
    }
   ],
   "source": []
  },
  {
   "cell_type": "code",
   "execution_count": 40,
   "id": "2a4fcea3",
   "metadata": {},
   "outputs": [
    {
     "name": "stdout",
     "output_type": "stream",
     "text": [
      "Help on built-in function chr in module builtins:\n",
      "\n",
      "chr(i, /)\n",
      "    Return a Unicode string of one character with ordinal i; 0 <= i <= 0x10ffff.\n",
      "\n"
     ]
    }
   ],
   "source": [
    "help(chr)"
   ]
  },
  {
   "cell_type": "code",
   "execution_count": 94,
   "id": "27b9fd05",
   "metadata": {
    "scrolled": true
   },
   "outputs": [
    {
     "data": {
      "text/plain": [
       "65"
      ]
     },
     "execution_count": 94,
     "metadata": {},
     "output_type": "execute_result"
    }
   ],
   "source": [
    "char = 'A'\n",
    "key = 1\n",
    "ord(char)"
   ]
  },
  {
   "cell_type": "code",
   "execution_count": 95,
   "id": "66d10670",
   "metadata": {},
   "outputs": [
    {
     "data": {
      "text/plain": [
       "'\\x01'"
      ]
     },
     "execution_count": 95,
     "metadata": {},
     "output_type": "execute_result"
    }
   ],
   "source": [
    "chr(((ord(char) + key-65) % 26))"
   ]
  },
  {
   "cell_type": "code",
   "execution_count": 100,
   "id": "8fa68930",
   "metadata": {},
   "outputs": [
    {
     "data": {
      "text/plain": [
       "'A'"
      ]
     },
     "execution_count": 100,
     "metadata": {},
     "output_type": "execute_result"
    }
   ],
   "source": [
    "chr(((ord(char) - 65) % 26 + 65))"
   ]
  },
  {
   "cell_type": "code",
   "execution_count": null,
   "id": "0cf545b3",
   "metadata": {},
   "outputs": [],
   "source": []
  }
 ],
 "metadata": {
  "kernelspec": {
   "display_name": "Python 3 (ipykernel)",
   "language": "python",
   "name": "python3"
  },
  "language_info": {
   "codemirror_mode": {
    "name": "ipython",
    "version": 3
   },
   "file_extension": ".py",
   "mimetype": "text/x-python",
   "name": "python",
   "nbconvert_exporter": "python",
   "pygments_lexer": "ipython3",
   "version": "3.11.5"
  }
 },
 "nbformat": 4,
 "nbformat_minor": 5
}
