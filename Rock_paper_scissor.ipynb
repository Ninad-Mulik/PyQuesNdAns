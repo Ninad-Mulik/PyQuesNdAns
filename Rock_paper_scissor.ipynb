{
 "cells": [
  {
   "cell_type": "code",
   "execution_count": 14,
   "id": "0d433dd7",
   "metadata": {},
   "outputs": [],
   "source": [
    "import random\n",
    "\n",
    "def start_game(User_input):\n",
    "    \n",
    "    #User = print('Enter rock, paper or scissor : ')\n",
    "    User_input = User_input.upper()\n",
    "\n",
    "    computer = ['ROCK','PAPER','SCISSOR']\n",
    "    computer_turn = random.choice(computer)\n",
    "\n",
    "    print('COMPUTER : ' + computer_turn ,' PLAYER : ' + User_input )\n",
    "\n",
    "    if computer_turn == 'ROCK':\n",
    "        if User_input == 'ROCK':\n",
    "            print('Tie')\n",
    "        elif User_input == 'PAPER':\n",
    "            print('Congratzz...')\n",
    "        elif User_input == 'SCISSOR':\n",
    "            print(\"YUH LOSE\")\n",
    "        else:\n",
    "            print('PLAY FAIR...')\n",
    "        \n",
    "    elif computer_turn == 'PAPER':\n",
    "        if User_input == 'ROCK':\n",
    "            print('Yuh LOSE')\n",
    "        elif User_input == 'PAPER':\n",
    "            print('Tie')\n",
    "        elif User_input == 'SCISSOR':\n",
    "            print(\"CONGRATS\")\n",
    "        else:\n",
    "            print('PLAY FAIR...')\n",
    "      \n",
    "        \n",
    "    elif computer_turn == 'SCISSOR':\n",
    "        if User_input == 'ROCK':\n",
    "            print('COngrats')\n",
    "        elif User_input == 'PAPER':\n",
    "            print('Yuh Lose')\n",
    "        elif User_input == 'SCISSOR':\n",
    "            print(\"TIE\")\n",
    "        else:\n",
    "            print('PLAY FAIR...')   \n",
    "    else:\n",
    "        print('Play fair broo..')\n",
    "    return 'well played..'\n",
    "\n"
   ]
  },
  {
   "cell_type": "code",
   "execution_count": 15,
   "id": "5b542f43",
   "metadata": {},
   "outputs": [
    {
     "name": "stdout",
     "output_type": "stream",
     "text": [
      "COMPUTER : SCISSOR  PLAYER : ROCK\n",
      "COngrats\n"
     ]
    },
    {
     "data": {
      "text/plain": [
       "'well played..'"
      ]
     },
     "execution_count": 15,
     "metadata": {},
     "output_type": "execute_result"
    }
   ],
   "source": [
    "start_game('rock')"
   ]
  },
  {
   "cell_type": "code",
   "execution_count": 12,
   "id": "50b05f98",
   "metadata": {},
   "outputs": [],
   "source": [
    "import random\n",
    "\n",
    "def play_game():\n",
    "    player_choice = input(\"Enter your choice (rock, paper, or scissors): \").lower()\n",
    "    computer_choice = random.choice([\"rock\", \"paper\", \"scissors\"])\n",
    "\n",
    "    print(f\"player's choice : {player_choice}, computer's choice : {computer_choice}\")\n",
    "    \n",
    "    if player_choice == computer_choice:\n",
    "        print(\"It's a tie!\")\n",
    "    elif (player_choice == \"rock\" and computer_choice == \"scissors\") or \\\n",
    "         (player_choice == \"paper\" and computer_choice == \"rock\") or \\\n",
    "         (player_choice == \"scissors\" and computer_choice == \"paper\"):\n",
    "        print(\"You win!\")\n",
    "    else:\n",
    "        print(\"Computer wins!\")\n",
    "\n"
   ]
  },
  {
   "cell_type": "code",
   "execution_count": 13,
   "id": "4cf703f7",
   "metadata": {
    "scrolled": true
   },
   "outputs": [
    {
     "name": "stdout",
     "output_type": "stream",
     "text": [
      "Enter your choice (rock, paper, or scissors): rock\n",
      "player's choice : rock, computer's choice : rock\n",
      "It's a tie!\n"
     ]
    }
   ],
   "source": [
    "play_game()"
   ]
  },
  {
   "cell_type": "code",
   "execution_count": null,
   "id": "5f8199ef",
   "metadata": {},
   "outputs": [],
   "source": []
  }
 ],
 "metadata": {
  "kernelspec": {
   "display_name": "Python 3 (ipykernel)",
   "language": "python",
   "name": "python3"
  },
  "language_info": {
   "codemirror_mode": {
    "name": "ipython",
    "version": 3
   },
   "file_extension": ".py",
   "mimetype": "text/x-python",
   "name": "python",
   "nbconvert_exporter": "python",
   "pygments_lexer": "ipython3",
   "version": "3.11.5"
  }
 },
 "nbformat": 4,
 "nbformat_minor": 5
}
