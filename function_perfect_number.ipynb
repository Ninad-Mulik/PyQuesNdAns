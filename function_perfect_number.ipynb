{
 "cells": [
  {
   "cell_type": "code",
   "execution_count": 1,
   "id": "95ff0424",
   "metadata": {},
   "outputs": [],
   "source": [
    "#Write a function that determines if a given number is a perfect number. \n",
    "#A perfect number is a positive integer that is equal to the sum of its proper divisors."
   ]
  },
  {
   "cell_type": "code",
   "execution_count": 2,
   "id": "edd48561",
   "metadata": {},
   "outputs": [],
   "source": [
    "def perfect_number(number):\n",
    "    \n",
    "    factors = []\n",
    "    perfect_numbie = 0 \n",
    "    #result = ''\n",
    "    \n",
    "    for i in range(1,number):\n",
    "        \n",
    "        if number % i == 0:\n",
    "            factors.append(i)\n",
    "    print(factors)      \n",
    "    \n",
    "    for i in factors:  \n",
    "        perfect_numbie = perfect_numbie + i\n",
    "    \n",
    "    if perfect_numbie == number:\n",
    "        return ('It is a perfect number')\n",
    "    else:\n",
    "        return ('It is not a perfect number')\n",
    "   "
   ]
  },
  {
   "cell_type": "code",
   "execution_count": 4,
   "id": "6f1caecb",
   "metadata": {},
   "outputs": [
    {
     "name": "stdout",
     "output_type": "stream",
     "text": [
      "[1, 2, 3]\n"
     ]
    },
    {
     "data": {
      "text/plain": [
       "'It is a perfect number'"
      ]
     },
     "execution_count": 4,
     "metadata": {},
     "output_type": "execute_result"
    }
   ],
   "source": [
    "perfect_number(6)"
   ]
  },
  {
   "cell_type": "code",
   "execution_count": null,
   "id": "46b8021d",
   "metadata": {},
   "outputs": [],
   "source": []
  }
 ],
 "metadata": {
  "kernelspec": {
   "display_name": "Python 3 (ipykernel)",
   "language": "python",
   "name": "python3"
  },
  "language_info": {
   "codemirror_mode": {
    "name": "ipython",
    "version": 3
   },
   "file_extension": ".py",
   "mimetype": "text/x-python",
   "name": "python",
   "nbconvert_exporter": "python",
   "pygments_lexer": "ipython3",
   "version": "3.11.5"
  }
 },
 "nbformat": 4,
 "nbformat_minor": 5
}
