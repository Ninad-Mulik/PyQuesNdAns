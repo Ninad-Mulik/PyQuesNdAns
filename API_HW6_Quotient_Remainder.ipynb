{
 "cells": [
  {
   "cell_type": "code",
   "execution_count": 1,
   "id": "98bada79",
   "metadata": {},
   "outputs": [],
   "source": [
    "from flask import Flask,request"
   ]
  },
  {
   "cell_type": "code",
   "execution_count": 2,
   "id": "6e503f81",
   "metadata": {},
   "outputs": [],
   "source": [
    "app = Flask(__name__)"
   ]
  },
  {
   "cell_type": "code",
   "execution_count": 3,
   "id": "232af966",
   "metadata": {},
   "outputs": [],
   "source": [
    "@app.route('/',methods = ['POST','GET'])\n",
    "def Remainder_Quotient():\n",
    "    if request.method == 'POST':\n",
    "        dividend = int(request.form.get('dividend'))\n",
    "        divisor = int(request.form.get('divisor'))\n",
    "        \n",
    "        output = remainder_quotient(dividend, divisor)\n",
    "        print(output)\n",
    "        return [output]"
   ]
  },
  {
   "cell_type": "code",
   "execution_count": 4,
   "id": "72e7e5b4",
   "metadata": {},
   "outputs": [],
   "source": [
    "def remainder_quotient(dividend, divisor):\n",
    "    count = 0\n",
    "    div = divisor\n",
    "    temp = divisor\n",
    "    Remainder = 0\n",
    "    backtrack = 0\n",
    "    \n",
    "    while divisor <= dividend:\n",
    "        \n",
    "        divisor = abs(divisor)\n",
    "        dividend = abs(dividend)\n",
    "        backtrack = divisor\n",
    "        divisor += temp                \n",
    "        count += 1    \n",
    "        quotient = count\n",
    "        Remainder = dividend - backtrack\n",
    "    return Remainder,quotient\n"
   ]
  },
  {
   "cell_type": "code",
   "execution_count": null,
   "id": "0400f34f",
   "metadata": {},
   "outputs": [
    {
     "name": "stdout",
     "output_type": "stream",
     "text": [
      " * Serving Flask app '__main__'\n",
      " * Debug mode: off\n"
     ]
    },
    {
     "name": "stderr",
     "output_type": "stream",
     "text": [
      "WARNING: This is a development server. Do not use it in a production deployment. Use a production WSGI server instead.\n",
      " * Running on http://127.0.0.1:5555\n",
      "Press CTRL+C to quit\n",
      "127.0.0.1 - - [18/Apr/2024 23:54:49] \"POST / HTTP/1.1\" 200 -\n"
     ]
    },
    {
     "name": "stdout",
     "output_type": "stream",
     "text": [
      "(0, 5)\n"
     ]
    }
   ],
   "source": [
    "if __name__ == '__main__':\n",
    "    app.run(port=5555)"
   ]
  },
  {
   "cell_type": "code",
   "execution_count": null,
   "id": "39e8feac",
   "metadata": {},
   "outputs": [],
   "source": []
  }
 ],
 "metadata": {
  "kernelspec": {
   "display_name": "Python 3 (ipykernel)",
   "language": "python",
   "name": "python3"
  },
  "language_info": {
   "codemirror_mode": {
    "name": "ipython",
    "version": 3
   },
   "file_extension": ".py",
   "mimetype": "text/x-python",
   "name": "python",
   "nbconvert_exporter": "python",
   "pygments_lexer": "ipython3",
   "version": "3.11.5"
  }
 },
 "nbformat": 4,
 "nbformat_minor": 5
}
