{
 "cells": [
  {
   "cell_type": "code",
   "execution_count": null,
   "id": "fc4d4ef1",
   "metadata": {},
   "outputs": [],
   "source": [
    "-5,-4,-3,-2,-1,0,1,2,3,4,5"
   ]
  },
  {
   "cell_type": "code",
   "execution_count": 11,
   "id": "6cdcb509",
   "metadata": {},
   "outputs": [],
   "source": [
    "#Given an array, rotate the array to the right by k steps, where k is non-negative."
   ]
  },
  {
   "cell_type": "code",
   "execution_count": 12,
   "id": "15a3af22",
   "metadata": {},
   "outputs": [
    {
     "data": {
      "text/plain": [
       "\"\\narray = ['a0','b1','c2','d3','e4']\\narray = ['e','a','b','c','d'] if k = 1\\narray = ['d','e','a','b','c'] if k = 2\\n\""
      ]
     },
     "execution_count": 12,
     "metadata": {},
     "output_type": "execute_result"
    }
   ],
   "source": [
    "array = ['a','b','c','d','e']\n",
    "'''\n",
    "array = ['a0','b1','c2','d3','e4']\n",
    "array = ['e','a','b','c','d'] if k = 1\n",
    "array = ['d','e','a','b','c'] if k = 2\n",
    "'''"
   ]
  },
  {
   "cell_type": "code",
   "execution_count": 13,
   "id": "35f34ffc",
   "metadata": {},
   "outputs": [],
   "source": [
    "def shift_array(array,k):\n",
    "    \n",
    "    start = 0\n",
    "    end = -1\n",
    "    new_array = []\n",
    "    if k > len(array):\n",
    "            k = k % len(array)\n",
    "    \n",
    "    for i in range(-k,len(array)):\n",
    "        \n",
    "        new_array.append(array[i])\n",
    "         \n",
    "        if len(new_array) > len(array)-1:\n",
    "            break\n",
    "            \n",
    "    return new_array"
   ]
  },
  {
   "cell_type": "code",
   "execution_count": 14,
   "id": "80968006",
   "metadata": {
    "scrolled": true
   },
   "outputs": [
    {
     "data": {
      "text/plain": [
       "['b', 'c', 'd', 'e', 'a']"
      ]
     },
     "execution_count": 14,
     "metadata": {},
     "output_type": "execute_result"
    }
   ],
   "source": [
    "shift_array(array,4)"
   ]
  },
  {
   "cell_type": "code",
   "execution_count": 15,
   "id": "c2b7381c",
   "metadata": {},
   "outputs": [
    {
     "data": {
      "text/plain": [
       "list[-5]"
      ]
     },
     "execution_count": 15,
     "metadata": {},
     "output_type": "execute_result"
    }
   ],
   "source": [
    "list1 = ['0','1','2','3','4']\n",
    "\n",
    "list1 = ['-5','-4','-3','-2','-1']\n",
    "list[-5]"
   ]
  },
  {
   "cell_type": "code",
   "execution_count": 16,
   "id": "13df5457",
   "metadata": {},
   "outputs": [],
   "source": [
    "\n",
    "for i in range(len(list1)-1,1,1): \n",
    "    print(list1[i])\n",
    "   \n",
    "    "
   ]
  },
  {
   "cell_type": "code",
   "execution_count": 17,
   "id": "6d8cb9a6",
   "metadata": {},
   "outputs": [
    {
     "data": {
      "text/plain": [
       "(-5, -4, -3, -2, -1, 0, 1, 2, 3, 4, 5)"
      ]
     },
     "execution_count": 17,
     "metadata": {},
     "output_type": "execute_result"
    }
   ],
   "source": [
    "-5,-4,-3,-2,-1,0,1,2,3,4,5"
   ]
  },
  {
   "cell_type": "code",
   "execution_count": null,
   "id": "04f6c18c",
   "metadata": {},
   "outputs": [],
   "source": []
  },
  {
   "cell_type": "code",
   "execution_count": 18,
   "id": "90e04be0",
   "metadata": {},
   "outputs": [],
   "source": [
    "array = ['a','b','c','d','e']\n",
    "\n",
    "def rotate_array(array,k):\n",
    "    new_array = []\n",
    "    \n",
    "    if len(array) == 0:\n",
    "        return []\n",
    "    \n",
    "    if k > len(array):\n",
    "        k = k % len(array)\n",
    "        print(k)\n",
    "    \n",
    "    for i in range(-k,len(array)-1):\n",
    "        new_array.append(array[i])\n",
    "        \n",
    "        if len(new_array) > len(array)-1:\n",
    "            break\n",
    "        \n",
    "    return new_array"
   ]
  },
  {
   "cell_type": "code",
   "execution_count": 19,
   "id": "b946dfea",
   "metadata": {
    "scrolled": false
   },
   "outputs": [
    {
     "data": {
      "text/plain": [
       "['a', 'b', 'c', 'd', 'e']"
      ]
     },
     "execution_count": 19,
     "metadata": {},
     "output_type": "execute_result"
    }
   ],
   "source": [
    "rotate_array(array,5)"
   ]
  },
  {
   "cell_type": "code",
   "execution_count": null,
   "id": "296afdb9",
   "metadata": {},
   "outputs": [],
   "source": []
  },
  {
   "cell_type": "code",
   "execution_count": 20,
   "id": "6213140c",
   "metadata": {},
   "outputs": [
    {
     "name": "stdout",
     "output_type": "stream",
     "text": [
      "3\n"
     ]
    }
   ],
   "source": [
    "#rough work\n",
    "k = 8\n",
    "aray = ['a','b','c','d','e']\n",
    "len(aray)\n",
    "\n",
    "if  k > len(aray):\n",
    "    k = k % len(aray)\n",
    "print(k)"
   ]
  },
  {
   "cell_type": "code",
   "execution_count": null,
   "id": "725063cb",
   "metadata": {},
   "outputs": [],
   "source": []
  }
 ],
 "metadata": {
  "kernelspec": {
   "display_name": "Python 3 (ipykernel)",
   "language": "python",
   "name": "python3"
  },
  "language_info": {
   "codemirror_mode": {
    "name": "ipython",
    "version": 3
   },
   "file_extension": ".py",
   "mimetype": "text/x-python",
   "name": "python",
   "nbconvert_exporter": "python",
   "pygments_lexer": "ipython3",
   "version": "3.11.5"
  }
 },
 "nbformat": 4,
 "nbformat_minor": 5
}
