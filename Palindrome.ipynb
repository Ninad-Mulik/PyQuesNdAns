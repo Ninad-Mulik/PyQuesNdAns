{
 "cells": [
  {
   "cell_type": "code",
   "execution_count": 70,
   "id": "e2cf744b",
   "metadata": {},
   "outputs": [],
   "source": [
    "string = \"level\""
   ]
  },
  {
   "cell_type": "code",
   "execution_count": 51,
   "id": "97bb6aff",
   "metadata": {},
   "outputs": [],
   "source": [
    "def is_palindrome(string):\n",
    "    \n",
    "    string = string.upper()\n",
    "    list_put = list(string)\n",
    "    \n",
    "    \n",
    "    start = 0\n",
    "    end = len(list_put) - 1\n",
    "    \n",
    "    \n",
    "    while start < end:\n",
    "        list_put[start],list_put[end] = list_put[end],list_put[start]\n",
    "        start += 1\n",
    "        end -= 1\n",
    "            \n",
    "    for i in range(len(list_put)):\n",
    "        if list_put[i] != string[i]:\n",
    "            return 'not a Palindrome'\n",
    "        \n",
    "    return 'palindrome'\n",
    "        "
   ]
  },
  {
   "cell_type": "code",
   "execution_count": 52,
   "id": "e4689c57",
   "metadata": {},
   "outputs": [
    {
     "data": {
      "text/plain": [
       "'palindrome'"
      ]
     },
     "execution_count": 52,
     "metadata": {},
     "output_type": "execute_result"
    }
   ],
   "source": [
    "is_palindrome(string)"
   ]
  },
  {
   "cell_type": "code",
   "execution_count": null,
   "id": "9e40e292",
   "metadata": {},
   "outputs": [],
   "source": []
  },
  {
   "cell_type": "code",
   "execution_count": 71,
   "id": "fb6e08bc",
   "metadata": {},
   "outputs": [],
   "source": [
    "def is_palindrome(string):\n",
    "    \n",
    "    reverse_string = \"\"  \n",
    "    for i in string:\n",
    "        reverse_string = i + reverse_string   \n",
    "        \n",
    "    if reverse_string == string:\n",
    "        return 'palidrome'\n",
    "    return 'not a palindrome'"
   ]
  },
  {
   "cell_type": "code",
   "execution_count": 72,
   "id": "6253ee08",
   "metadata": {},
   "outputs": [
    {
     "data": {
      "text/plain": [
       "'palidrome'"
      ]
     },
     "execution_count": 72,
     "metadata": {},
     "output_type": "execute_result"
    }
   ],
   "source": [
    "is_palindrome(string)"
   ]
  },
  {
   "cell_type": "code",
   "execution_count": null,
   "id": "76828a5d",
   "metadata": {},
   "outputs": [],
   "source": []
  },
  {
   "cell_type": "code",
   "execution_count": null,
   "id": "310b5f33",
   "metadata": {},
   "outputs": [],
   "source": []
  }
 ],
 "metadata": {
  "kernelspec": {
   "display_name": "Python 3 (ipykernel)",
   "language": "python",
   "name": "python3"
  },
  "language_info": {
   "codemirror_mode": {
    "name": "ipython",
    "version": 3
   },
   "file_extension": ".py",
   "mimetype": "text/x-python",
   "name": "python",
   "nbconvert_exporter": "python",
   "pygments_lexer": "ipython3",
   "version": "3.11.5"
  }
 },
 "nbformat": 4,
 "nbformat_minor": 5
}
