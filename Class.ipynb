{
 "cells": [
  {
   "cell_type": "code",
   "execution_count": 20,
   "id": "39750e7c",
   "metadata": {},
   "outputs": [],
   "source": [
    "class hW:\n",
    "    def Reverse_string(self,string):\n",
    "        reverse=''\n",
    "        for i in string:\n",
    "            reverse = i + reverse \n",
    "        return reverse\n",
    "    \n",
    "    def fibonnaci(self,number_of_times):\n",
    "        fib = [0,1]\n",
    "        while len(fib) <= number_of_times:\n",
    "            fib.append(fib[-1]+fib[-2])\n",
    "        return fib\n",
    "    \n",
    "    def anagram(self,letter1,letter2):\n",
    "        if sorted(letter1) == sorted(letter2):\n",
    "            return 'it is anagram'\n",
    "        else:\n",
    "            return 'it is not an anagram'\n",
    "    def perfect_number(self,number):\n",
    "        \n",
    "        factors = []\n",
    "        perfect_numbie = 0 \n",
    "        #result = ''\n",
    "    \n",
    "        for i in range(1,number):\n",
    "        \n",
    "            if number % i == 0:\n",
    "                factors.append(i)\n",
    "        print(factors)      \n",
    "    \n",
    "        for i in factors:  \n",
    "            perfect_numbie = perfect_numbie + i\n",
    "    \n",
    "        if perfect_numbie == number:\n",
    "            return ('It is a perfect number')\n",
    "        else:\n",
    "            return ('It is not a perfect number')\n",
    "    \n",
    "    def is_palindrome(self,string):\n",
    "        string = string.upper()\n",
    "        list_put = list(string)\n",
    "    \n",
    "    \n",
    "        start = 0\n",
    "        end = len(list_put) - 1\n",
    "    \n",
    "    \n",
    "        while start < end:\n",
    "            list_put[start],list_put[end] = list_put[end],list_put[start]\n",
    "            start += 1\n",
    "            end -= 1\n",
    "            \n",
    "        for i in range(len(list_put)):\n",
    "            if list_put[i] != string[i]:\n",
    "                return 'not a Palindrome'\n",
    "        \n",
    "        return 'palindrome'\n",
    "    \n",
    "    def reverse_string_with_special_chars(self,string):\n",
    "        \n",
    "        input_list = []        \n",
    "        for i in string:     \n",
    "            input_list += i     \n",
    "    \n",
    "        start = 0                      \n",
    "        end = len(string) - 1\n",
    "    \n",
    "   \n",
    "        while start < end:  \n",
    "        \n",
    "            if not input_list[start].isalnum(): \n",
    "                start += 1                       \n",
    "            elif not input_list[end].isalnum():\n",
    "                end -= 1                         \n",
    "        \n",
    "            else:\n",
    "            \n",
    "                input_list[start], input_list[end] = input_list[end], input_list[start] \n",
    "  \n",
    "                start += 1   \n",
    "                end -= 1   \n",
    "        #print(input_list[start],input_list[end])   \n",
    "        reverse = ''\n",
    "        for i in input_list:\n",
    "            reverse = reverse + i   \n",
    "        \n",
    "        return reverse\n",
    "    \n",
    "    def substrin_sumthin(self,s,words):\n",
    "        \n",
    "        for i in range(len(words)):\n",
    "            element_len = len(words[i])\n",
    "        \n",
    "        word_length = len(words)  \n",
    "        string_need_to_concat = word_length * element_len\n",
    "     \n",
    "        test_concat_list = []\n",
    "        for j in range(len(words)):\n",
    "            for k in range(len(words)):\n",
    "       \n",
    "                if j == k:\n",
    "                    continue\n",
    "                else:\n",
    "                    test_concat = words[j] + words[k]\n",
    "                    test_concat_list.append(test_concat)\n",
    "          \n",
    "    \n",
    "        return test_concat_list \n",
    "        "
   ]
  },
  {
   "cell_type": "code",
   "execution_count": 21,
   "id": "473181e5",
   "metadata": {},
   "outputs": [],
   "source": [
    "hW_instance = hW()"
   ]
  },
  {
   "cell_type": "code",
   "execution_count": 4,
   "id": "da7bbb39",
   "metadata": {},
   "outputs": [
    {
     "data": {
      "text/plain": [
       "'dercas'"
      ]
     },
     "execution_count": 4,
     "metadata": {},
     "output_type": "execute_result"
    }
   ],
   "source": [
    "hW_instance.Reverse_string('sacred')"
   ]
  },
  {
   "cell_type": "code",
   "execution_count": 5,
   "id": "007d598c",
   "metadata": {},
   "outputs": [
    {
     "data": {
      "text/plain": [
       "[0, 1, 1, 2, 3, 5, 8, 13, 21, 34, 55]"
      ]
     },
     "execution_count": 5,
     "metadata": {},
     "output_type": "execute_result"
    }
   ],
   "source": [
    "hW_instance.fibonnaci(10)"
   ]
  },
  {
   "cell_type": "code",
   "execution_count": 7,
   "id": "e6ca04b1",
   "metadata": {},
   "outputs": [
    {
     "data": {
      "text/plain": [
       "'it is anagram'"
      ]
     },
     "execution_count": 7,
     "metadata": {},
     "output_type": "execute_result"
    }
   ],
   "source": [
    "hW_instance.anagram('silent','listen')"
   ]
  },
  {
   "cell_type": "code",
   "execution_count": 5,
   "id": "9906c5bf",
   "metadata": {},
   "outputs": [
    {
     "name": "stdout",
     "output_type": "stream",
     "text": [
      "[1, 2, 3]\n"
     ]
    },
    {
     "data": {
      "text/plain": [
       "'It is a perfect number'"
      ]
     },
     "execution_count": 5,
     "metadata": {},
     "output_type": "execute_result"
    }
   ],
   "source": [
    "hW_instance.perfect_number(6)"
   ]
  },
  {
   "cell_type": "code",
   "execution_count": 11,
   "id": "2957fad8",
   "metadata": {},
   "outputs": [
    {
     "data": {
      "text/plain": [
       "'palindrome'"
      ]
     },
     "execution_count": 11,
     "metadata": {},
     "output_type": "execute_result"
    }
   ],
   "source": [
    "hW_instance.is_palindrome('level')"
   ]
  },
  {
   "cell_type": "code",
   "execution_count": 17,
   "id": "948f3b6d",
   "metadata": {},
   "outputs": [
    {
     "data": {
      "text/plain": [
       "'QedocteeLgn=1tse-T!'"
      ]
     },
     "execution_count": 17,
     "metadata": {},
     "output_type": "execute_result"
    }
   ],
   "source": [
    "hW_instance.reverse_string_with_special_chars('Test1ngLeet=code-Q!')"
   ]
  },
  {
   "cell_type": "code",
   "execution_count": 22,
   "id": "e5707dab",
   "metadata": {},
   "outputs": [
    {
     "data": {
      "text/plain": [
       "['foobar', 'barfoo']"
      ]
     },
     "execution_count": 22,
     "metadata": {},
     "output_type": "execute_result"
    }
   ],
   "source": [
    "hW_instance.substrin_sumthin('barfoothefoobarman',[\"foo\",\"bar\"])"
   ]
  },
  {
   "cell_type": "code",
   "execution_count": null,
   "id": "f7fc6ca4",
   "metadata": {},
   "outputs": [],
   "source": []
  }
 ],
 "metadata": {
  "kernelspec": {
   "display_name": "Python 3 (ipykernel)",
   "language": "python",
   "name": "python3"
  },
  "language_info": {
   "codemirror_mode": {
    "name": "ipython",
    "version": 3
   },
   "file_extension": ".py",
   "mimetype": "text/x-python",
   "name": "python",
   "nbconvert_exporter": "python",
   "pygments_lexer": "ipython3",
   "version": "3.11.5"
  }
 },
 "nbformat": 4,
 "nbformat_minor": 5
}
