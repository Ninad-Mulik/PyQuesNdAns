{
 "cells": [
  {
   "cell_type": "code",
   "execution_count": 1,
   "id": "755a639b",
   "metadata": {},
   "outputs": [],
   "source": [
    "from flask import Flask,request,jsonify"
   ]
  },
  {
   "cell_type": "code",
   "execution_count": 2,
   "id": "cd47fb8c",
   "metadata": {},
   "outputs": [],
   "source": [
    "app = Flask(__name__)"
   ]
  },
  {
   "cell_type": "code",
   "execution_count": 3,
   "id": "8f0804de",
   "metadata": {},
   "outputs": [],
   "source": [
    "@app.route('/two_sum', methods=['POST'])\n",
    "def two_sum():\n",
    "    data = request.json\n",
    "    nums = data['nums']\n",
    "    target = data['target']\n",
    "    num_dict = {}\n",
    "    for i in range(nums):\n",
    "        num = nums[i]\n",
    "        complement = target - num\n",
    "        if complement in num_dict:\n",
    "            return jsonify([num_dict[complement], i])\n",
    "        num_dict[num] = i\n",
    "    return jsonify([])"
   ]
  },
  {
   "cell_type": "code",
   "execution_count": 4,
   "id": "6cd85848",
   "metadata": {},
   "outputs": [],
   "source": [
    "@app.route('/reverse_integer', methods=['POST'])\n",
    "def reverse_integer():\n",
    "    num = request.json['num']\n",
    "    sign = -1 if num < 0 else 1\n",
    "    num = abs(num)\n",
    "    reversed_num = 0\n",
    "    while num != 0:\n",
    "        reversed_num = reversed_num * 10 + num % 10\n",
    "        num //= 10\n",
    "    reversed_num *= sign\n",
    "    return jsonify(reversed_num)"
   ]
  },
  {
   "cell_type": "code",
   "execution_count": 5,
   "id": "63b228f6",
   "metadata": {},
   "outputs": [],
   "source": [
    "@app.route('/palindrome_number', methods=['POST'])\n",
    "def palindrome_number():\n",
    "    num = request.json['num']\n",
    "    if num < 0:\n",
    "        return jsonify(False)\n",
    "    reversed_num = 0\n",
    "    temp = num\n",
    "    while temp != 0:\n",
    "        reversed_num = reversed_num * 10 + temp % 10\n",
    "        temp //= 10\n",
    "    return jsonify(num == reversed_num)"
   ]
  },
  {
   "cell_type": "code",
   "execution_count": null,
   "id": "fdba1587",
   "metadata": {},
   "outputs": [
    {
     "name": "stdout",
     "output_type": "stream",
     "text": [
      " * Serving Flask app '__main__'\n",
      " * Debug mode: off\n"
     ]
    },
    {
     "name": "stderr",
     "output_type": "stream",
     "text": [
      "WARNING: This is a development server. Do not use it in a production deployment. Use a production WSGI server instead.\n",
      " * Running on http://127.0.0.1:4298\n",
      "Press CTRL+C to quit\n"
     ]
    }
   ],
   "source": [
    "if __name__ == '__main__':\n",
    "    app.run(port=4298)"
   ]
  }
 ],
 "metadata": {
  "kernelspec": {
   "display_name": "Python 3 (ipykernel)",
   "language": "python",
   "name": "python3"
  },
  "language_info": {
   "codemirror_mode": {
    "name": "ipython",
    "version": 3
   },
   "file_extension": ".py",
   "mimetype": "text/x-python",
   "name": "python",
   "nbconvert_exporter": "python",
   "pygments_lexer": "ipython3",
   "version": "3.11.5"
  }
 },
 "nbformat": 4,
 "nbformat_minor": 5
}
